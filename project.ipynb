{
 "cells": [
  {
   "cell_type": "markdown",
   "id": "c4d872fc",
   "metadata": {},
   "source": [
    "# Implementations of the k-means clustering using Spark\n",
    "\n",
    "### Group 12:\n",
    "- Eugenio Fella\n",
    "- Matteo Pedrazzi\n",
    "- Gaetano Ricucci \n",
    "- Carlo Sgorlon Gaiatto"
   ]
  },
  {
   "cell_type": "code",
   "execution_count": 1,
   "id": "c87c0f61",
   "metadata": {},
   "outputs": [],
   "source": [
    "import sys\n",
    "import time\n",
    "import math\n",
    "import csv\n",
    "import numpy as np\n",
    "import pandas as pd\n",
    "from scipy import sparse as sp\n",
    "import matplotlib.pyplot as plt\n",
    "import sklearn\n",
    "from sklearn.datasets import fetch_rcv1"
   ]
  },
  {
   "cell_type": "code",
   "execution_count": 3,
   "id": "851de006",
   "metadata": {},
   "outputs": [],
   "source": [
    "# set this variable with one of the following values:\n",
    "\n",
    "# 'cloud-veneto-cluster' -> Spark standalone cluster\n",
    "# 'docker-cluster' -> development Spark standalone cluster\n",
    "\n",
    "CLUSTER_TYPE = 'cloud-veneto-cluster'"
   ]
  },
  {
   "cell_type": "code",
   "execution_count": 4,
   "id": "a3a2c006",
   "metadata": {},
   "outputs": [],
   "source": [
    "if CLUSTER_TYPE == 'cloud-veneto-cluster':\n",
    "    \n",
    "    import findspark\n",
    "    \n",
    "    # add pyspark to sys.path runtime\n",
    "    findspark.init('/usr/local/spark')\n",
    "\n",
    "    import boto3\n",
    "    import urllib3\n",
    "\n",
    "    urllib3.disable_warnings()\n",
    "    \n",
    "    # establish a connection to Cloud-Veneto's Amazon S3 buckets with Boto3\n",
    "    s3 = boto3.client('s3',\n",
    "                     endpoint_url = 'https://cloud-areapd.pd.infn.it:5210',\n",
    "                     aws_access_key_id = '1d3f4d968ec14d53bcc4b8e6f6afd9e1',\n",
    "                     aws_secret_access_key = '***insert key***',\n",
    "                     verify = False)"
   ]
  },
  {
   "cell_type": "markdown",
   "id": "626b92d0",
   "metadata": {},
   "source": [
    "# Load compressed [RCV1 dataset](https://scikit-learn.org/stable/datasets/real_world.html#rcv1-dataset)"
   ]
  },
  {
   "cell_type": "code",
   "execution_count": 5,
   "id": "d46967d0",
   "metadata": {},
   "outputs": [],
   "source": [
    "rcv1 = fetch_rcv1(subset = 'all')"
   ]
  },
  {
   "cell_type": "code",
   "execution_count": 6,
   "id": "ce71a231",
   "metadata": {},
   "outputs": [
    {
     "name": "stdout",
     "output_type": "stream",
     "text": [
      "RCV1 dataset attributes:\n",
      "\n",
      "       name:                                   class:           shape: \n",
      "\n",
      "        data   <class 'scipy.sparse._csr.csr_matrix'>  (804414, 47236)\n",
      "      target   <class 'scipy.sparse._csr.csr_matrix'>    (804414, 103)\n",
      "target_names                  <class 'numpy.ndarray'>           (103,)\n",
      "   sample_id                  <class 'numpy.ndarray'>        (804414,)\n"
     ]
    }
   ],
   "source": [
    "# attributes of rcv1 (dictionary-like object):\n",
    "# data         -> scipy CSR sparse matrix\n",
    "# target       -> scipy CSR sparse matrix\n",
    "# target_names -> numpy array\n",
    "# sample_id    -> numpy array\n",
    "\n",
    "attributes_rcv1 = ['data', 'target', 'target_names', 'sample_id']\n",
    "format_spec = '{:>12} {:>40} {:>16}'\n",
    "\n",
    "print('RCV1 dataset attributes:\\n')\n",
    "print(format_spec.format('name:', 'class:', 'shape:'), '\\n')\n",
    "\n",
    "for attribute in attributes_rcv1:\n",
    "    words = [attribute, type(getattr(rcv1, attribute)), getattr(rcv1, attribute).shape]\n",
    "    words = [str(w) for w in words]\n",
    "    print(format_spec.format(words[0], words[1], words[2]))"
   ]
  },
  {
   "cell_type": "code",
   "execution_count": 7,
   "id": "f4c6084b",
   "metadata": {},
   "outputs": [
    {
     "name": "stdout",
     "output_type": "stream",
     "text": [
      "data CSR sparse matrix attributes:\n",
      "\n",
      "     name:                    class:       shape:     size [Mb]: \n",
      "\n",
      "      data   <class 'numpy.ndarray'>  (60915113,)       487.3209\n",
      "   indices   <class 'numpy.ndarray'>  (60915113,)       243.6605\n",
      "    indptr   <class 'numpy.ndarray'>    (804415,)         3.2177\n",
      "\n",
      "\n",
      "\n",
      "target CSR sparse matrix attributes:\n",
      "\n",
      "     name:                    class:       shape:     size [Mb]: \n",
      "\n",
      "      data   <class 'numpy.ndarray'>   (2606875,)         2.6069\n",
      "   indices   <class 'numpy.ndarray'>   (2606875,)        10.4275\n",
      "    indptr   <class 'numpy.ndarray'>    (804415,)         3.2177\n"
     ]
    }
   ],
   "source": [
    "# attributes of scipy CSR sparse matrix (CSR = Compressed Sparse Row):\n",
    "# data    -> CSR format data array of the matrix\n",
    "# indices -> CSR format index array of the matrix\n",
    "# indptr  -> CSR format index pointer array of the matrix\n",
    "\n",
    "attributes_CSR = ['data', 'indices', 'indptr']\n",
    "format_spec = '{:>10} {:>25} {:>12} {:>14}'\n",
    "    \n",
    "for i in range(2):\n",
    "    \n",
    "    csr = getattr(rcv1, attributes_rcv1[i])\n",
    "    \n",
    "    if i == 1: print('\\n\\n')\n",
    "    print('{} CSR sparse matrix attributes:\\n'.format(attributes_rcv1[i]))\n",
    "    print(format_spec.format('name:', 'class:', 'shape:', 'size [Mb]:'), '\\n')\n",
    "\n",
    "    for attribute in attributes_CSR:\n",
    "\n",
    "        x = getattr(csr, attribute)\n",
    "        words = [attribute, type(x), x.shape, round(x.nbytes/10**6, 4)]\n",
    "        words = [str(w) for w in words]\n",
    "        print(format_spec.format(words[0], words[1], words[2], words[3]))"
   ]
  },
  {
   "cell_type": "markdown",
   "id": "65257bfe",
   "metadata": {},
   "source": [
    "# Split compressed RCV1 dataset into chunks and save them"
   ]
  },
  {
   "cell_type": "code",
   "execution_count": 8,
   "id": "df193418",
   "metadata": {},
   "outputs": [
    {
     "name": "stdout",
     "output_type": "stream",
     "text": [
      "number of selected documents: 512000\n"
     ]
    }
   ],
   "source": [
    "# define the number of rows for each chunk\n",
    "rows_per_chunk = 16000\n",
    "# define number of chunks\n",
    "n_chunk = 32\n",
    "# compute total number of selected documents \n",
    "tot_docs = rows_per_chunk*n_chunk\n",
    "print('number of selected documents:', tot_docs)"
   ]
  },
  {
   "cell_type": "code",
   "execution_count": 9,
   "id": "97c73669",
   "metadata": {},
   "outputs": [],
   "source": [
    "if CLUSTER_TYPE == 'cloud-veneto-cluster':\n",
    "\n",
    "    for i in range(n_chunk):\n",
    "\n",
    "        # save data CSR sparse matrix chunk\n",
    "        sp.save_npz('rcv1_dataset/data_{}.npz'.format(i),\n",
    "                    rcv1.data[rows_per_chunk*(i):rows_per_chunk*(i+1)],\n",
    "                    compressed = True)\n",
    "\n",
    "        # save target CSR sparse matrix chunk\n",
    "        sp.save_npz('rcv1_dataset/target_{}.npz'.format(i),\n",
    "                    rcv1.target[rows_per_chunk*(i):rows_per_chunk*(i+1)],\n",
    "                    compressed = True)\n",
    "\n",
    "        # upload chunks into 'mapd-gr12' Amazon S3 bucket\n",
    "        s3.upload_file('rcv1_dataset/data_{}.npz'.format(i), 'mapd-gr12', 'data_{}.npz'.format(i))\n",
    "        s3.upload_file('rcv1_dataset/target_{}.npz'.format(i), 'mapd-gr12', 'target_{}.npz'.format(i))  \n",
    "        \n",
    "elif CLUSTER_TYPE == 'docker-cluster':\n",
    "    \n",
    "    for i in range(n_chunk):\n",
    "    \n",
    "        # save data CSR sparse matrix chunk\n",
    "        sp.save_npz('rcv1_dataset/data_{}.npz'.format(i),\n",
    "                    rcv1.data[rows_per_chunk*(i):rows_per_chunk*(i+1)],\n",
    "                    compressed = True)\n",
    "\n",
    "        # save target CSR sparse matrix chunk\n",
    "        sp.save_npz('rcv1_dataset/target_{}.npz'.format(i),\n",
    "                    rcv1.target[rows_per_chunk*(i):rows_per_chunk*(i+1)],\n",
    "                    compressed = True)"
   ]
  },
  {
   "cell_type": "code",
   "execution_count": 10,
   "id": "6ac6dfa1",
   "metadata": {},
   "outputs": [
    {
     "name": "stdout",
     "output_type": "stream",
     "text": [
      "data_0 CSR sparse matrix chunk attributes:\n",
      "\n",
      "     name:                    class:       shape:     size [Mb]: \n",
      "\n",
      "      data   <class 'numpy.ndarray'>   (1203897,)         9.6312\n",
      "   indices   <class 'numpy.ndarray'>   (1203897,)         4.8156\n",
      "    indptr   <class 'numpy.ndarray'>     (16001,)          0.064\n",
      "\n",
      "\n",
      "\n",
      "target_0 CSR sparse matrix chunk attributes:\n",
      "\n",
      "     name:                    class:       shape:     size [Mb]: \n",
      "\n",
      "      data   <class 'numpy.ndarray'>     (50731,)         0.0507\n",
      "   indices   <class 'numpy.ndarray'>     (50731,)         0.2029\n",
      "    indptr   <class 'numpy.ndarray'>     (16001,)          0.064\n"
     ]
    }
   ],
   "source": [
    "# inspect a single chunk\n",
    "format_spec = '{:>10} {:>25} {:>12} {:>14}'\n",
    "\n",
    "for i in range(2):\n",
    "    \n",
    "    # loading method\n",
    "    csr = sp.load_npz('rcv1_dataset/{}_0.npz'.format(attributes_rcv1[i]))\n",
    "    \n",
    "    if i == 1: print('\\n\\n')\n",
    "    print('{}_0 CSR sparse matrix chunk attributes:\\n'.format(attributes_rcv1[i]))\n",
    "    print(format_spec.format('name:', 'class:', 'shape:', 'size [Mb]:'), '\\n')\n",
    "\n",
    "    for attribute in attributes_CSR:\n",
    "\n",
    "        x = getattr(csr, attribute)\n",
    "        words = [attribute, type(x), x.shape, round(x.nbytes/10**6, 4)]\n",
    "        words = [str(w) for w in words]\n",
    "        print(format_spec.format(words[0], words[1], words[2], words[3]))"
   ]
  },
  {
   "cell_type": "markdown",
   "id": "c58350bb",
   "metadata": {},
   "source": [
    "# Build the Spark session"
   ]
  },
  {
   "cell_type": "code",
   "execution_count": 11,
   "id": "fb1fbed0",
   "metadata": {},
   "outputs": [],
   "source": [
    "from pyspark.sql import SparkSession\n",
    "from pyspark.sql import functions as F"
   ]
  },
  {
   "cell_type": "code",
   "execution_count": 12,
   "id": "480fa675",
   "metadata": {},
   "outputs": [
    {
     "name": "stderr",
     "output_type": "stream",
     "text": [
      "Setting default log level to \"WARN\".\n",
      "To adjust logging level use sc.setLogLevel(newLevel). For SparkR, use setLogLevel(newLevel).\n"
     ]
    },
    {
     "name": "stdout",
     "output_type": "stream",
     "text": [
      "22/07/11 19:52:34 WARN NativeCodeLoader: Unable to load native-hadoop library for your platform... using builtin-java classes where applicable\n"
     ]
    },
    {
     "data": {
      "text/html": [
       "\n",
       "            <div>\n",
       "                <p><b>SparkSession - in-memory</b></p>\n",
       "                \n",
       "        <div>\n",
       "            <p><b>SparkContext</b></p>\n",
       "\n",
       "            <p><a href=\"http://10.67.22.104:4040\">Spark UI</a></p>\n",
       "\n",
       "            <dl>\n",
       "              <dt>Version</dt>\n",
       "                <dd><code>v3.3.0</code></dd>\n",
       "              <dt>Master</dt>\n",
       "                <dd><code>spark://master:7077</code></dd>\n",
       "              <dt>AppName</dt>\n",
       "                <dd><code>k_means_application</code></dd>\n",
       "            </dl>\n",
       "        </div>\n",
       "        \n",
       "            </div>\n",
       "        "
      ],
      "text/plain": [
       "<pyspark.sql.session.SparkSession at 0x7f70ae638940>"
      ]
     },
     "execution_count": 12,
     "metadata": {},
     "output_type": "execute_result"
    }
   ],
   "source": [
    "if CLUSTER_TYPE == 'cloud-veneto-cluster':\n",
    "\n",
    "    spark = SparkSession.builder \\\n",
    "        .master('spark://master:7077')\\\n",
    "        .appName('k_means_application')\\\n",
    "        .config('spark.driver.host','10.67.22.104')\\\n",
    "        .config('spark.executor.memory', '1g')\\\n",
    "        .config('spark.executor.cores', '1')\\\n",
    "        .config('spark.default.parallelism', '32')\\\n",
    "        .getOrCreate()\n",
    "    \n",
    "elif CLUSTER_TYPE == 'docker-cluster':\n",
    "    \n",
    "    spark = SparkSession.builder \\\n",
    "        .master('spark://spark-master:7077')\\\n",
    "        .appName('k_means_application')\\\n",
    "        .config('spark.executor.memory', '512m')\\\n",
    "        .config('spark.executor.cores', '1')\\\n",
    "        .config('spark.default.parallelism', '2')\\\n",
    "        .getOrCreate()\n",
    "\n",
    "# get the SparkSession\n",
    "spark"
   ]
  },
  {
   "cell_type": "code",
   "execution_count": 13,
   "id": "6b31b4e4",
   "metadata": {},
   "outputs": [
    {
     "data": {
      "text/html": [
       "\n",
       "        <div>\n",
       "            <p><b>SparkContext</b></p>\n",
       "\n",
       "            <p><a href=\"http://10.67.22.104:4040\">Spark UI</a></p>\n",
       "\n",
       "            <dl>\n",
       "              <dt>Version</dt>\n",
       "                <dd><code>v3.3.0</code></dd>\n",
       "              <dt>Master</dt>\n",
       "                <dd><code>spark://master:7077</code></dd>\n",
       "              <dt>AppName</dt>\n",
       "                <dd><code>k_means_application</code></dd>\n",
       "            </dl>\n",
       "        </div>\n",
       "        "
      ],
      "text/plain": [
       "<SparkContext master=spark://master:7077 appName=k_means_application>"
      ]
     },
     "execution_count": 13,
     "metadata": {},
     "output_type": "execute_result"
    }
   ],
   "source": [
    "# get the SparkContext\n",
    "sc = spark.sparkContext\n",
    "\n",
    "sc"
   ]
  },
  {
   "cell_type": "markdown",
   "id": "c47db3b1",
   "metadata": {},
   "source": [
    "# Read the files in parallel with Spark and select only one-label documents\n",
    "\n",
    "We only select one-label documents, as k-means clustering assigns each point to a single cluster. We have considered all sub-labels and not only the macro-labels, in order to have a larger number of clusters necessary to properly test the different execution times of the k-means++ and k-means|| initialization methods."
   ]
  },
  {
   "cell_type": "code",
   "execution_count": 14,
   "id": "b50a5ee1",
   "metadata": {
    "scrolled": false
   },
   "outputs": [
    {
     "name": "stderr",
     "output_type": "stream",
     "text": [
      "                                                                                \r"
     ]
    },
    {
     "data": {
      "text/plain": [
       "[('data_0.npz', 'target_0.npz'),\n",
       " ('data_1.npz', 'target_1.npz'),\n",
       " ('data_2.npz', 'target_2.npz'),\n",
       " ('data_3.npz', 'target_3.npz'),\n",
       " ('data_4.npz', 'target_4.npz'),\n",
       " ('data_5.npz', 'target_5.npz'),\n",
       " ('data_6.npz', 'target_6.npz'),\n",
       " ('data_7.npz', 'target_7.npz'),\n",
       " ('data_8.npz', 'target_8.npz'),\n",
       " ('data_9.npz', 'target_9.npz'),\n",
       " ('data_10.npz', 'target_10.npz'),\n",
       " ('data_11.npz', 'target_11.npz'),\n",
       " ('data_12.npz', 'target_12.npz'),\n",
       " ('data_13.npz', 'target_13.npz'),\n",
       " ('data_14.npz', 'target_14.npz'),\n",
       " ('data_15.npz', 'target_15.npz'),\n",
       " ('data_16.npz', 'target_16.npz'),\n",
       " ('data_17.npz', 'target_17.npz'),\n",
       " ('data_18.npz', 'target_18.npz'),\n",
       " ('data_19.npz', 'target_19.npz'),\n",
       " ('data_20.npz', 'target_20.npz'),\n",
       " ('data_21.npz', 'target_21.npz'),\n",
       " ('data_22.npz', 'target_22.npz'),\n",
       " ('data_23.npz', 'target_23.npz'),\n",
       " ('data_24.npz', 'target_24.npz'),\n",
       " ('data_25.npz', 'target_25.npz'),\n",
       " ('data_26.npz', 'target_26.npz'),\n",
       " ('data_27.npz', 'target_27.npz'),\n",
       " ('data_28.npz', 'target_28.npz'),\n",
       " ('data_29.npz', 'target_29.npz'),\n",
       " ('data_30.npz', 'target_30.npz'),\n",
       " ('data_31.npz', 'target_31.npz')]"
      ]
     },
     "execution_count": 14,
     "metadata": {},
     "output_type": "execute_result"
    }
   ],
   "source": [
    "# creates a list of file names\n",
    "\n",
    "if CLUSTER_TYPE == 'cloud-veneto-cluster':\n",
    "\n",
    "    file_list = [('data_{}.npz'.format(i), 'target_{}.npz'.format(i)) for i in range(n_chunk)]\n",
    "    \n",
    "elif CLUSTER_TYPE == 'docker-cluster':\n",
    "    \n",
    "    files_path = '/opt/workspace/rcv1_dataset/'\n",
    "    file_list = [(files_path + 'data_{}.npz'.format(i),\n",
    "                  files_path + 'target_{}.npz'.format(i)) for i in range(n_chunk)]\n",
    "\n",
    "# parallelize the list of file names\n",
    "files_rdd = sc.parallelize(file_list)\n",
    "files_rdd.collect()"
   ]
  },
  {
   "cell_type": "code",
   "execution_count": 15,
   "id": "e622fae0",
   "metadata": {},
   "outputs": [],
   "source": [
    "# get the names of all possible labels (both macro and sub)\n",
    "target_names = rcv1.target_names"
   ]
  },
  {
   "cell_type": "code",
   "execution_count": 16,
   "id": "001722b2",
   "metadata": {},
   "outputs": [],
   "source": [
    "# function to download, load and read files in parallel with Spark\n",
    "# and perform an initial filter operation selecting only one-label documents\n",
    "\n",
    "if CLUSTER_TYPE == 'cloud-veneto-cluster':\n",
    "    \n",
    "    def parse_file(file, target_names):\n",
    "\n",
    "        # list of macro-labels\n",
    "        target_names_macro = ['CCAT', 'ECAT', 'GCAT', 'MCAT']  \n",
    "\n",
    "        s3 = boto3.client('s3',\n",
    "                     endpoint_url = 'https://cloud-areapd.pd.infn.it:5210',\n",
    "                     aws_access_key_id = '1d3f4d968ec14d53bcc4b8e6f6afd9e1',\n",
    "                     aws_secret_access_key = '***insert key***',\n",
    "                     verify = False)\n",
    "\n",
    "        # download files from s3\n",
    "        s3.download_file('mapd-gr12', file[0] ,'/home/Project/rcv1_dataset/' + file[0])\n",
    "        s3.download_file('mapd-gr12', file[1] ,'/home/Project/rcv1_dataset/' + file[1])\n",
    "\n",
    "        # load sparse matricies\n",
    "        data = sp.load_npz('/home/Project/rcv1_dataset/' + file[0])\n",
    "        target = sp.load_npz('/home/Project/rcv1_dataset/' + file[1])\n",
    "\n",
    "        # list of documents\n",
    "        rows = [] \n",
    "\n",
    "        # loop over documents in the chunk\n",
    "        for i in range(data.shape[0]):\n",
    "\n",
    "            # get indices of non-zero labels of the i-th document\n",
    "            indices = target.indices[target.indptr[i]:target.indptr[i+1]]\n",
    "\n",
    "            # check if there are only two labels\n",
    "            if len(indices) == 2:\n",
    "\n",
    "                # get the 2 labels of the i-th document\n",
    "                labels = [target_names[i] for i in indices]\n",
    "\n",
    "                # check if there is at least 1 macro-label AND\n",
    "                # check if both labels belong to the same macro-label\n",
    "                if (any(c in labels for c in target_names_macro) and len(set([c[0] for c in labels])) == 1):\n",
    "\n",
    "                    # select the sub-label\n",
    "                    label = [l for l in labels if l not in target_names_macro][0]\n",
    "\n",
    "                    # build a dictionary containing the non-zero features of the i-th document\n",
    "                    keys = [str(i) for i in data.indices[data.indptr[i]:data.indptr[i+1]]]\n",
    "                    values = data.data[data.indptr[i]:data.indptr[i+1]].tolist()\n",
    "                    features = dict(zip(keys, values))\n",
    "\n",
    "                    rows.append((label,features))           \n",
    "\n",
    "        return rows"
   ]
  },
  {
   "cell_type": "code",
   "execution_count": 17,
   "id": "297cd69b",
   "metadata": {},
   "outputs": [],
   "source": [
    "# function to load and read files in parallel with Spark\n",
    "# and perform an initial filter operation selecting only one-label documents\n",
    "\n",
    "if CLUSTER_TYPE == 'docker-cluster':\n",
    "    \n",
    "    def parse_file(file, target_names):\n",
    "    \n",
    "        # list of macro-labels\n",
    "        target_names_macro = ['CCAT', 'ECAT', 'GCAT', 'MCAT']\n",
    "\n",
    "        # load sparse matricies\n",
    "        data = sp.load_npz(file[0])\n",
    "        target = sp.load_npz(file[1])\n",
    "\n",
    "        # list of documents\n",
    "        rows = [] \n",
    "\n",
    "        # loop over documents in the chunk\n",
    "        for i in range(data.shape[0]):\n",
    "\n",
    "            # get indices of non-zero labels of the i-th document\n",
    "            indices = target.indices[target.indptr[i]:target.indptr[i+1]]\n",
    "\n",
    "            # check if there are only two labels\n",
    "            if len(indices) == 2:\n",
    "\n",
    "                # get the 2 labels of the i-th document\n",
    "                labels = [target_names[i] for i in indices]\n",
    "\n",
    "                # check if there is at least 1 macro-label AND\n",
    "                # check if both labels belong to the same macro-label\n",
    "                if (any(c in labels for c in target_names_macro) and len(set([c[0] for c in labels])) == 1):\n",
    "\n",
    "                    # select the sub-label\n",
    "                    label = [l for l in labels if l not in target_names_macro][0]\n",
    "\n",
    "                    # build a dictionary containing the non-zero features of the i-th document\n",
    "                    keys = [str(i) for i in data.indices[data.indptr[i]:data.indptr[i+1]]]\n",
    "                    values = data.data[data.indptr[i]:data.indptr[i+1]].tolist()\n",
    "                    features = dict(zip(keys, values))\n",
    "\n",
    "                    rows.append((label,features))           \n",
    "\n",
    "        return rows"
   ]
  },
  {
   "cell_type": "code",
   "execution_count": 18,
   "id": "9e075b2d",
   "metadata": {},
   "outputs": [
    {
     "name": "stdout",
     "output_type": "stream",
     "text": [
      "size of a parse chunk: 14.98 Mb\n"
     ]
    }
   ],
   "source": [
    "# get the size of a parse chunk\n",
    "parse_chunk = parse_file(file_list[0], target_names)\n",
    "parse_chunk_size = 0\n",
    "\n",
    "for i in range(len(parse_chunk)):\n",
    "    parse_chunk_size += sys.getsizeof(parse_chunk[i][0]) + sys.getsizeof(parse_chunk[i][1])\n",
    "\n",
    "print('size of a parse chunk:', round(parse_chunk_size/10**6, 2), 'Mb')"
   ]
  },
  {
   "cell_type": "code",
   "execution_count": 19,
   "id": "0c353df8",
   "metadata": {},
   "outputs": [],
   "source": [
    "# persist tha dataset in memory\n",
    "data_rdd = files_rdd.flatMap(lambda file: parse_file(file, target_names)).persist()"
   ]
  },
  {
   "cell_type": "code",
   "execution_count": 20,
   "id": "2d6a26d0",
   "metadata": {
    "scrolled": true
   },
   "outputs": [
    {
     "name": "stdout",
     "output_type": "stream",
     "text": [
      "number of documents in the loaded dataset: 512000\n"
     ]
    },
    {
     "name": "stderr",
     "output_type": "stream",
     "text": [
      "[Stage 1:==============================================>          (26 + 6) / 32]\r"
     ]
    },
    {
     "name": "stdout",
     "output_type": "stream",
     "text": [
      "number of one-label documents in the loaded dataset: 131844\n"
     ]
    },
    {
     "name": "stderr",
     "output_type": "stream",
     "text": [
      "\r",
      "[Stage 1:================================================>        (27 + 5) / 32]\r",
      "\r",
      "                                                                                \r"
     ]
    }
   ],
   "source": [
    "# trigger the caching\n",
    "print('number of documents in the loaded dataset:', rows_per_chunk*n_chunk)\n",
    "print('number of one-label documents in the loaded dataset:', data_rdd.count())"
   ]
  },
  {
   "cell_type": "markdown",
   "id": "7ab048b3",
   "metadata": {},
   "source": [
    "# Visualize clusters population"
   ]
  },
  {
   "cell_type": "code",
   "execution_count": 21,
   "id": "089f530e",
   "metadata": {},
   "outputs": [
    {
     "name": "stdout",
     "output_type": "stream",
     "text": [
      "Clusters information:\n",
      "\n",
      "  macro-label:    number of sub-labels:      population: \n",
      "\n",
      "          CCAT                       18            31774\n",
      "          ECAT                       10             8233\n",
      "          GCAT                       21            56235\n",
      "          MCAT                        4            35602\n",
      "\n",
      "                                  total:           total:\n",
      "                                     53           131844\n"
     ]
    },
    {
     "data": {
      "image/png": "[encoded data removed]",
      "text/plain": [
       "<Figure size 1526.4x432 with 1 Axes>"
      ]
     },
     "metadata": {
      "needs_background": "light"
     },
     "output_type": "display_data"
    }
   ],
   "source": [
    "def visualize_clusters_pop(labels_dict):\n",
    "    \n",
    "    macros = ['CCAT', 'ECAT', 'GCAT', 'MCAT']    \n",
    "    colors = ['tab:blue', 'tab:red', 'tab:green', 'tab:orange']\n",
    "    \n",
    "    keys = []\n",
    "    values = []\n",
    "    color_list = []\n",
    "    \n",
    "    format_spec = '{:>14} {:>24} {:>16}'\n",
    "    \n",
    "    print('Clusters information:\\n')\n",
    "    print(format_spec.format('macro-label:', 'number of sub-labels:', 'population:'), '\\n')\n",
    "    \n",
    "    # get population of each sub-label sorted by values and grouped by macro-label\n",
    "    for i, macro in enumerate(macros):\n",
    "\n",
    "        # create a sorted dictionary of sub-labels belonging to the same macro-label\n",
    "        d = dict([(key, labels_dict[key]) for key in labels_dict.keys() if key[0] == macro[0]])\n",
    "        d = dict(sorted(d.items(), key = lambda item: -item[1]))\n",
    "\n",
    "        keys += [*d]\n",
    "        values += [*d.values()] \n",
    "        color_list += [colors[i]]*len(d)\n",
    "\n",
    "        print(format_spec.format(macro, str(len(d)), str(np.sum([*d.values()]))))\n",
    "\n",
    "    print('\\n', format_spec.format('', 'total:', 'total:'))\n",
    "    print(format_spec.format('', str(len(values)), str(np.sum(values))))\n",
    "\n",
    "    # plot\n",
    "    fig, ax = plt.subplots(figsize = (0.4*len(values),6))\n",
    "    ax.bar(keys, values, color = color_list)\n",
    "    ax.set_xlabel('cluster', fontsize = 14)\n",
    "    ax.set_ylabel('population', fontsize = 14)\n",
    "    plt.xticks(fontsize = 12, rotation = 45)\n",
    "    plt.yticks(fontsize = 12)\n",
    "    plt.show()\n",
    "        \n",
    "clusters_dict = data_rdd.countByKey()\n",
    "visualize_clusters_pop(clusters_dict)"
   ]
  },
  {
   "cell_type": "markdown",
   "id": "5bee1479",
   "metadata": {},
   "source": [
    "# Clusters filter\n",
    "\n",
    "We only select clusters with nearly homogeneous populations, as k-means clustering requires clusters to be of similar size in order to work properly."
   ]
  },
  {
   "cell_type": "code",
   "execution_count": 22,
   "id": "ad59908b",
   "metadata": {},
   "outputs": [
    {
     "name": "stdout",
     "output_type": "stream",
     "text": [
      "Number of selected clusters:  11 \n",
      "\n",
      "['M12', 'C31', 'GPOL', 'GVIO', 'GDIP', 'C24', 'C33', 'C11', 'GCRIM', 'C21', 'E71']\n"
     ]
    }
   ],
   "source": [
    "# sort the dictionary containing the population of each cluster\n",
    "clusters_dict = {k: clusters_dict[k] for k in sorted(clusters_dict, key = clusters_dict.get, reverse = True)}\n",
    "\n",
    "# get population of each cluster\n",
    "clusters_pop = np.array([*clusters_dict.values()]) \n",
    "\n",
    "# define thresholds to select only clusters with homogeneous populations\n",
    "threshold_high = 0.125*np.sum(clusters_pop)\n",
    "threshold_low = 0.0225*np.sum(clusters_pop)\n",
    "\n",
    "# get filtered clusters\n",
    "filter_index_high = np.max(np.where(clusters_pop > threshold_high)) + 1\n",
    "filter_index_low = np.max(np.where(clusters_pop > threshold_low)) + 1\n",
    "filtered_clusters = [*clusters_dict][filter_index_high:filter_index_low]\n",
    "\n",
    "print('Number of selected clusters: ', filter_index_low - filter_index_high, '\\n')\n",
    "print(filtered_clusters)"
   ]
  },
  {
   "cell_type": "code",
   "execution_count": 23,
   "id": "fe06fc8d",
   "metadata": {},
   "outputs": [
    {
     "name": "stdout",
     "output_type": "stream",
     "text": [
      "Clusters information:\n",
      "\n",
      "  macro-label:    number of sub-labels:      population: \n",
      "\n",
      "          CCAT                        5            25796\n",
      "          ECAT                        1             3273\n",
      "          GCAT                        4            25895\n",
      "          MCAT                        1             9017\n",
      "\n",
      "                                  total:           total:\n",
      "                                     11            63981\n"
     ]
    },
    {
     "data": {
      "image/png": "[encoded data removed]",
      "text/plain": [
       "<Figure size 316.8x432 with 1 Axes>"
      ]
     },
     "metadata": {
      "needs_background": "light"
     },
     "output_type": "display_data"
    }
   ],
   "source": [
    "# filter the RDD\n",
    "filtered_clusters_dict = data_rdd \\\n",
    "                    .filter(lambda el: el[0] in filtered_clusters) \\\n",
    "                    .countByKey()\n",
    "\n",
    "visualize_clusters_pop(filtered_clusters_dict)"
   ]
  },
  {
   "cell_type": "code",
   "execution_count": 24,
   "id": "8d641dcf",
   "metadata": {},
   "outputs": [],
   "source": [
    "# fix the number of clusters\n",
    "k = len(filtered_clusters_dict)"
   ]
  },
  {
   "cell_type": "markdown",
   "id": "e4885e43",
   "metadata": {},
   "source": [
    "# Features filter\n",
    "The data features are represented by cosine-normalized, log TF-IDF vectors. Therefore we can reduce the dimensionality of the points by aggregating the features using the sum operation and selecting only the most important ones."
   ]
  },
  {
   "cell_type": "code",
   "execution_count": 25,
   "id": "454315ab",
   "metadata": {},
   "outputs": [],
   "source": [
    "# function to sum the values of two dictionaries by keys\n",
    "def sum_dictionary(el1, el2):\n",
    "    \n",
    "    dict_sum = {key: el1.get(key, 0) + el2.get(key, 0) for key in set([*el1]+[*el2])}\n",
    "    \n",
    "    # return a tuple as rdd element\n",
    "    return ('total', dict_sum)"
   ]
  },
  {
   "cell_type": "code",
   "execution_count": 26,
   "id": "731c29f3",
   "metadata": {},
   "outputs": [
    {
     "name": "stderr",
     "output_type": "stream",
     "text": [
      "                                                                                \r"
     ]
    }
   ],
   "source": [
    "# create a sorted dictionary of the aggregated features\n",
    "features_dict = data_rdd \\\n",
    "            .filter(lambda el: el[0] in filtered_clusters) \\\n",
    "            .reduce(lambda el1, el2: sum_dictionary(el1[1], el2[1]))[1]\n",
    "\n",
    "features_dict = {key: features_dict[key] for key in sorted(features_dict, key = features_dict.get, reverse = True)}"
   ]
  },
  {
   "cell_type": "code",
   "execution_count": 27,
   "id": "0dbc23aa",
   "metadata": {},
   "outputs": [
    {
     "name": "stdout",
     "output_type": "stream",
     "text": [
      "number of selected features: 920\n"
     ]
    },
    {
     "data": {
      "image/png": "[encoded data removed]",
      "text/plain": [
       "<Figure size 720x432 with 1 Axes>"
      ]
     },
     "metadata": {
      "needs_background": "light"
     },
     "output_type": "display_data"
    }
   ],
   "source": [
    "# compute the cumulative sum\n",
    "cumsum_features_dict = np.cumsum([*features_dict.values()])\n",
    "\n",
    "# define a threshold to select only a fraction of the features\n",
    "threshold = 0.5*cumsum_features_dict[-1]\n",
    "\n",
    "# get filtered features\n",
    "filter_index = np.min(np.where(cumsum_features_dict > threshold))\n",
    "filtered_features = [*features_dict][:filter_index]\n",
    "print('number of selected features:', filter_index)\n",
    "\n",
    "# plot\n",
    "fig, ax = plt.subplots(figsize=(10,6))\n",
    "ax.plot(range(len(features_dict)), features_dict.values(), lw = 2, label = 'importance')\n",
    "ax.axvline(x = filter_index, color = 'tab:red', ls = '--', lw = 2, label = 'threshold')\n",
    "ax.set_xlabel('feature', fontsize = 14)\n",
    "ax.set_ylabel('feature importance', fontsize = 14)\n",
    "plt.xticks(fontsize = 12)\n",
    "plt.yticks(fontsize = 12)\n",
    "plt.legend(fontsize = 14)\n",
    "plt.show()"
   ]
  },
  {
   "cell_type": "code",
   "execution_count": 28,
   "id": "07fb68ad",
   "metadata": {},
   "outputs": [],
   "source": [
    "# function to remove not selected features\n",
    "def filter_features(el, filtered_keys):\n",
    "    \n",
    "    filtered_dict = {key: el[key] for key in filtered_keys if key in el}\n",
    "    \n",
    "    return filtered_dict"
   ]
  },
  {
   "cell_type": "code",
   "execution_count": 29,
   "id": "e2b591f0",
   "metadata": {},
   "outputs": [
    {
     "name": "stderr",
     "output_type": "stream",
     "text": [
      "\r",
      "[Stage 5:============================================>            (25 + 7) / 32]\r",
      "\r",
      "                                                                                \r"
     ]
    },
    {
     "data": {
      "text/plain": [
       "63981"
      ]
     },
     "execution_count": 29,
     "metadata": {},
     "output_type": "execute_result"
    }
   ],
   "source": [
    "# persist the dataset in memory after the clusters and features filters\n",
    "data_rdd_filtered = data_rdd \\\n",
    "                .filter(lambda el: el[0] in filtered_clusters) \\\n",
    "                .mapValues(lambda el: filter_features(el, filtered_features)) \\\n",
    "                .persist()\n",
    "\n",
    "# trigger the caching\n",
    "data_rdd_filtered.count()"
   ]
  },
  {
   "cell_type": "code",
   "execution_count": 30,
   "id": "cc7c75a5",
   "metadata": {},
   "outputs": [
    {
     "data": {
      "text/plain": [
       "PythonRDD[1] at RDD at PythonRDD.scala:53"
      ]
     },
     "execution_count": 30,
     "metadata": {},
     "output_type": "execute_result"
    }
   ],
   "source": [
    "# free up memory\n",
    "data_rdd.unpersist()"
   ]
  },
  {
   "cell_type": "markdown",
   "id": "5c6d3125",
   "metadata": {},
   "source": [
    "# K-means clustering\n",
    "\n",
    "In this section, we define some UDFs that we are going to use in the implementation of the k-means clustering algorithm."
   ]
  },
  {
   "cell_type": "code",
   "execution_count": 31,
   "id": "9deae4c8",
   "metadata": {},
   "outputs": [],
   "source": [
    "# function to assign each point to a cluster\n",
    "def assign_cluster(el, C):\n",
    "    \n",
    "    # compute the squared distance using the first centroid\n",
    "    d2_dict = {key: (el.get(key, 0) - C[0].get(key, 0))**2 for key in set([*el]+[*C[0]])}\n",
    "    d2_min = np.sum([*d2_dict.values()])      \n",
    "    cluster_ID = str(0)\n",
    "\n",
    "    # loop over the remaining k - 1 centroids\n",
    "    for k in range(1, len(C)):\n",
    "        d2_dict = {key: (el.get(key, 0) - C[k].get(key, 0))**2 for key in set([*el]+[*C[k]])}\n",
    "        d2 = np.sum([*d2_dict.values()])\n",
    "        \n",
    "        # update the minimum squared distance \n",
    "        if d2 < d2_min:\n",
    "            d2_min = d2\n",
    "            cluster_ID = str(k)\n",
    "               \n",
    "    return (cluster_ID, el)"
   ]
  },
  {
   "cell_type": "code",
   "execution_count": 32,
   "id": "fe3734c5",
   "metadata": {},
   "outputs": [],
   "source": [
    "# function to sum sparse dictionaries\n",
    "def sum_points(el1, el2):\n",
    "    dict_sum = {key: el1.get(key,0) + el2.get(key,0) for key in set([*el1]+[*el2])}    \n",
    "    return dict_sum"
   ]
  },
  {
   "cell_type": "code",
   "execution_count": 33,
   "id": "6f9f27ab",
   "metadata": {},
   "outputs": [],
   "source": [
    "# function to compute centroids given labelled documents \n",
    "def compute_centroids(el, pop_clusters):\n",
    "    \n",
    "    cluster_ID = el[0]\n",
    "    pop = pop_clusters[cluster_ID]\n",
    "    \n",
    "    keys = [*el[1]]\n",
    "    values = [v/pop for v in [*el[1].values()]]\n",
    "    \n",
    "    return (cluster_ID, dict(zip(keys, values)))"
   ]
  },
  {
   "cell_type": "code",
   "execution_count": 34,
   "id": "c27c9bdd",
   "metadata": {},
   "outputs": [],
   "source": [
    "# function to calculate the squared distance to the nearest centroid\n",
    "def compute_d2(el, C):\n",
    "    \n",
    "    # compute the squared distance using the first centroid\n",
    "    d2_dict = {key: (el.get(key, 0) - C[0].get(key, 0))**2 for key in set([*el]+[*C[0]])}\n",
    "    d2_min = np.sum([*d2_dict.values()])      \n",
    "\n",
    "    # loop over the remaining k - 1 centroids\n",
    "    for k in range(1, len(C)):\n",
    "        d2_dict = {key: (el.get(key, 0) - C[k].get(key, 0))**2 for key in set([*el]+[*C[k]])}\n",
    "        d2 = np.sum([*d2_dict.values()])\n",
    "        \n",
    "        # update the minimum squared distance\n",
    "        if d2 < d2_min:\n",
    "            d2_min = d2\n",
    "            \n",
    "    return d2_min"
   ]
  },
  {
   "cell_type": "markdown",
   "id": "1b0d4f15",
   "metadata": {},
   "source": [
    "# Baseline cost\n",
    "We compute the cost function using the human assigned labels."
   ]
  },
  {
   "cell_type": "code",
   "execution_count": 35,
   "id": "f79c36d2",
   "metadata": {},
   "outputs": [],
   "source": [
    "def compute_base_cost(label, el, C):\n",
    "    \n",
    "    c = [c[1] for c in C if c[0] == label][0]\n",
    "    d2_dict = {key: (el.get(key, 0) - c[key])**2 for key in [*c]}\n",
    "    d2 = np.sum([*d2_dict.values()])      \n",
    "            \n",
    "    return d2"
   ]
  },
  {
   "cell_type": "code",
   "execution_count": 36,
   "id": "7cb51961",
   "metadata": {},
   "outputs": [
    {
     "name": "stderr",
     "output_type": "stream",
     "text": [
      "                                                                                \r"
     ]
    }
   ],
   "source": [
    "C_base = data_rdd_filtered \\\n",
    "        .reduceByKey(lambda el1, el2: sum_points(el1, el2)) \\\n",
    "        .map(lambda el: compute_centroids(el, filtered_clusters_dict)) \\\n",
    "        .collect()\n",
    "\n",
    "base_cost = data_rdd_filtered \\\n",
    "        .map(lambda el: compute_base_cost(el[0], el[1], C_base)) \\\n",
    "        .reduce(lambda x, y: x + y)"
   ]
  },
  {
   "cell_type": "markdown",
   "id": "306bf359",
   "metadata": {},
   "source": [
    "# Naive (Forgy) initialization"
   ]
  },
  {
   "cell_type": "code",
   "execution_count": 37,
   "id": "62fdb72d",
   "metadata": {},
   "outputs": [],
   "source": [
    "def naive_init(k, data_rdd, seed):\n",
    "    \n",
    "    print('naive initialization started ...')\n",
    "    \n",
    "    # select k cetroids uniformly at random at once\n",
    "    C = data_rdd.takeSample(False, k, seed) # return a list with k tuples\n",
    "    C = [c[1] for c in C]\n",
    "    \n",
    "    return C"
   ]
  },
  {
   "cell_type": "markdown",
   "id": "000afdca",
   "metadata": {},
   "source": [
    "# K-means++ initialization"
   ]
  },
  {
   "cell_type": "code",
   "execution_count": 38,
   "id": "74c64c97",
   "metadata": {},
   "outputs": [],
   "source": [
    "def k_means_pp_init(k, data_rdd, seed, verbose = 0):\n",
    "    \n",
    "    print('k-means ++ initialization started ...')\n",
    "    if verbose == 1: print('')\n",
    "       \n",
    "    np.random.seed(seed)\n",
    "    \n",
    "    # centroids list\n",
    "    C = []\n",
    "    \n",
    "    # select first centroid uniformly at random\n",
    "    c = data_rdd.takeSample(False, 1, seed) # return a list with 1 tuple\n",
    "    C.append(c[0][1])\n",
    "    \n",
    "    # select the remaining k-1 centroids\n",
    "    for i in range(k-1):\n",
    "        \n",
    "        if verbose == 1: print('iteration:', i+1)\n",
    "          \n",
    "        # persist the dataset in memory after computing the squared distance\n",
    "        data_rdd_cached = data_rdd \\\n",
    "                        .map(lambda el: (compute_d2(el[1], C), el[1])) \\\n",
    "                        .persist()\n",
    "        \n",
    "        # compute cost and trigger the caching\n",
    "        cost = data_rdd_cached \\\n",
    "            .reduce(lambda x, y: (x[0] + y[0], ''))[0]\n",
    "        \n",
    "        # weighted sampling\n",
    "        c = data_rdd_cached \\\n",
    "            .map(lambda el: (True, el[1]) if np.random.uniform(size = 1) < el[0]/cost else (False, el[1])) \\\n",
    "            .filter(lambda el: el[0]) \\\n",
    "            .takeSample(False, 1, seed) # return a list with at most 1 tuple\n",
    "        \n",
    "        if len(c) == 0:\n",
    "            \n",
    "            if verbose == 1: print('-> failed weighted sampling: take highest probabilty')\n",
    "            \n",
    "            # get centroid with the highest probabilty (unnormalized)\n",
    "            c = data_rdd_cached \\\n",
    "                .reduce(lambda el1, el2: el1 if (el1[0] >= el2[0]) else el2) # return 1 tuple\n",
    "            \n",
    "            C.append(c[1])\n",
    "            \n",
    "        else:\n",
    "            \n",
    "            C.append(c[0][1]) \n",
    "            \n",
    "        # free up memory\n",
    "        data_rdd_cached.unpersist()\n",
    "                \n",
    "    return C"
   ]
  },
  {
   "cell_type": "markdown",
   "id": "9695fe4f",
   "metadata": {},
   "source": [
    "# K-means|| initialization"
   ]
  },
  {
   "cell_type": "code",
   "execution_count": 39,
   "id": "67087323",
   "metadata": {},
   "outputs": [],
   "source": [
    "def k_means_ll_init(k, data_rdd, seed, l = 2, t = 5, verbose = 0):\n",
    "    \n",
    "    print('k-means || initialization started ...')\n",
    "    \n",
    "    np.random.seed(seed)\n",
    "    \n",
    "    # centroids list\n",
    "    C = []\n",
    "    \n",
    "    # select first centroid uniformly at random\n",
    "    c = data_rdd.takeSample(False, 1, seed) # return a list with 1 tuple\n",
    "    C.append(c[0][1])\n",
    "    \n",
    "    # compute cost\n",
    "    cost = data_rdd.map(lambda el: compute_d2(el[1], C)) \\\n",
    "        .reduce(lambda x, y: x + y)\n",
    "    \n",
    "    #t = math.floor(math.log(cost))\n",
    "    if verbose == 1: print('\\ntheoretical number of iterations:', math.floor(math.log(cost)), '\\n')\n",
    "      \n",
    "    for i in range(t):\n",
    "        \n",
    "        if verbose == 1: print('iteration:', i+1)\n",
    "            \n",
    "        # persist the dataset in memory after computing the squared distance\n",
    "        data_rdd_cached = data_rdd \\\n",
    "                        .map(lambda el: (compute_d2(el[1], C), el[1])) \\\n",
    "                        .persist()\n",
    "        \n",
    "        if i != 0:\n",
    "            # compute cost and trigger the caching\n",
    "            cost = data_rdd_cached \\\n",
    "                .reduce(lambda x, y: (x[0] + y[0], ''))[0]\n",
    "\n",
    "        #  compute normalize probs and multiply by the oversampling factor\n",
    "        #  weighted sampling\n",
    "        #  get new centroids       \n",
    "        rows = data_rdd_cached \\\n",
    "            .map(lambda el: (True, el[1]) if np.random.uniform(size = 1) < l*el[0]/cost else (False, el[1])) \\\n",
    "            .filter(lambda el: el[0]) \\\n",
    "            .collect() # return a list with a variable number of tuples\n",
    "        \n",
    "        c_list = [row[1] for row in rows]\n",
    "        C += c_list     \n",
    "\n",
    "        if verbose == 1: print('-> number of selected centroids:', len(c_list))\n",
    "            \n",
    "        # free up memory\n",
    "        data_rdd_cached.unpersist()\n",
    "        \n",
    "    if verbose == 1: print('\\ntotal number of centroids:', len(C))\n",
    "    \n",
    "    if len(C) > k:\n",
    "        \n",
    "        print('\\nre-clustering started ...\\n')\n",
    "        \n",
    "        # select k centroids from C using k-means ++\n",
    "        C_rdd = sc.parallelize([('', c) for c in C])\n",
    "        C = k_means_pp_init(k, C_rdd, seed, 0)\n",
    "        \n",
    "        if verbose == 1: print('\\ntotal number of centroids after re-clustering:', len(C))\n",
    "           \n",
    "    return C"
   ]
  },
  {
   "cell_type": "markdown",
   "id": "92837256",
   "metadata": {},
   "source": [
    "# Lloyd's algorithm"
   ]
  },
  {
   "cell_type": "code",
   "execution_count": 40,
   "id": "28168798",
   "metadata": {},
   "outputs": [],
   "source": [
    "def lloyd_algorithm(data_rdd, C, cost_list, t):\n",
    "    \n",
    "    print(\"Lloyd's algorithm started ...\\n\")\n",
    "    \n",
    "    # compute initialization cost\n",
    "    cost = data_rdd \\\n",
    "        .map(lambda el: compute_d2(el[1], C)) \\\n",
    "        .reduce(lambda x, y: x + y)\n",
    "    \n",
    "    cost_list.append(cost)\n",
    "    \n",
    "    print('cost (init):', np.round(cost, 2), '\\n')\n",
    "    \n",
    "    for i in range(t):\n",
    "        \n",
    "        # persist the dataset in memory after cluster assignment\n",
    "        data_rdd_cached = data_rdd \\\n",
    "                        .map(lambda el: assign_cluster(el[1], C)) \\\n",
    "                        .persist()\n",
    "\n",
    "        # compute clusters population and trigger caching \n",
    "        pop_clusters = data_rdd_cached.countByKey()\n",
    "\n",
    "        # compute new centroids\n",
    "        C = data_rdd_cached \\\n",
    "            .reduceByKey(lambda el1, el2: sum_points(el1, el2)) \\\n",
    "            .map(lambda el: compute_centroids(el, pop_clusters)) \\\n",
    "            .values() \\\n",
    "            .collect()\n",
    "        \n",
    "        # compute new cost\n",
    "        cost_best = data_rdd \\\n",
    "                .map(lambda el: compute_d2(el[1], C)) \\\n",
    "                .reduce(lambda x, y: x + y)\n",
    "        \n",
    "        cost_list.append(cost_best)\n",
    "        \n",
    "        # free up memory\n",
    "        data_rdd_cached.unpersist()\n",
    "\n",
    "        print('iteration:', i+1)\n",
    "        print('cost:', np.round(cost_best, 2))\n",
    "        print('reduction:', np.round(100*(cost - cost_best)/cost, 3), '%\\n')\n",
    "        \n",
    "        cost = cost_best\n",
    "        \n",
    "    return C, cost_list"
   ]
  },
  {
   "cell_type": "markdown",
   "id": "c8ec7a2f",
   "metadata": {},
   "source": [
    "# Run k-means clustering"
   ]
  },
  {
   "cell_type": "code",
   "execution_count": 43,
   "id": "1bd48cec",
   "metadata": {},
   "outputs": [
    {
     "name": "stdout",
     "output_type": "stream",
     "text": [
      "number of clusters: 11\n"
     ]
    }
   ],
   "source": [
    "print('number of clusters:', k)"
   ]
  },
  {
   "cell_type": "code",
   "execution_count": 45,
   "id": "6364b4a3",
   "metadata": {},
   "outputs": [
    {
     "name": "stdout",
     "output_type": "stream",
     "text": [
      "k-means || initialization started ...\n",
      "\n",
      "theoretical number of iterations: 10 \n",
      "\n",
      "iteration: 1\n",
      "-> number of selected centroids: 4\n",
      "iteration: 2\n"
     ]
    },
    {
     "name": "stderr",
     "output_type": "stream",
     "text": [
      "                                                                                \r"
     ]
    },
    {
     "name": "stdout",
     "output_type": "stream",
     "text": [
      "-> number of selected centroids: 2\n",
      "iteration: 3\n"
     ]
    },
    {
     "name": "stderr",
     "output_type": "stream",
     "text": [
      "                                                                                \r"
     ]
    },
    {
     "name": "stdout",
     "output_type": "stream",
     "text": [
      "-> number of selected centroids: 4\n",
      "iteration: 4\n"
     ]
    },
    {
     "name": "stderr",
     "output_type": "stream",
     "text": [
      "                                                                                \r"
     ]
    },
    {
     "name": "stdout",
     "output_type": "stream",
     "text": [
      "-> number of selected centroids: 6\n",
      "\n",
      "total number of centroids: 17\n",
      "\n",
      "re-clustering started ...\n",
      "\n",
      "k-means ++ initialization started ...\n",
      "\n",
      "total number of centroids after re-clustering: 11\n",
      "\n",
      "initialization time: 13.84 s\n"
     ]
    }
   ],
   "source": [
    "# set this variable with one of the following values:\n",
    "\n",
    "# 'naive'      -> naive (Forgy) initialization\n",
    "# 'k-means-pp' -> k-means++ initialization\n",
    "# 'k-means-ll' -> k-means|| initialization\n",
    "\n",
    "init_method = 'k-means-ll'\n",
    "\n",
    "# initial centroids\n",
    "C = []\n",
    "\n",
    "start_time = time.time()\n",
    "\n",
    "if init_method == 'naive':\n",
    "    C = naive_init(k, data_rdd_filtered, seed = 54321)\n",
    "    \n",
    "elif init_method == 'k-means-pp':\n",
    "    C = k_means_pp_init(k, data_rdd_filtered, seed = 54321, verbose = 1)\n",
    "    \n",
    "elif init_method == 'k-means-ll':\n",
    "    C = k_means_ll_init(k, data_rdd_filtered, seed = 54321, l = 3, t = 4, verbose = 1)\n",
    "    if len(C) != k:\n",
    "        print('ERROR: increase the oversampling factor l or the number of iterations t')\n",
    "\n",
    "end_time = time.time()\n",
    "\n",
    "t_init = end_time - start_time\n",
    "\n",
    "print('\\ninitialization time: {} s'.format(str(round(t_init, 2))))"
   ]
  },
  {
   "cell_type": "code",
   "execution_count": 46,
   "id": "00341f4e",
   "metadata": {},
   "outputs": [
    {
     "name": "stdout",
     "output_type": "stream",
     "text": [
      "cost (base): 20587.19\n"
     ]
    }
   ],
   "source": [
    "cost_list = [base_cost]\n",
    "print('cost (base):', round(cost_list[0], 2))"
   ]
  },
  {
   "cell_type": "code",
   "execution_count": 47,
   "id": "c3607133",
   "metadata": {
    "scrolled": false
   },
   "outputs": [
    {
     "name": "stdout",
     "output_type": "stream",
     "text": [
      "Lloyd's algorithm started ...\n",
      "\n"
     ]
    },
    {
     "name": "stderr",
     "output_type": "stream",
     "text": [
      "                                                                                \r"
     ]
    },
    {
     "name": "stdout",
     "output_type": "stream",
     "text": [
      "cost (init): 34886.88 \n",
      "\n"
     ]
    },
    {
     "name": "stderr",
     "output_type": "stream",
     "text": [
      "                                                                                \r"
     ]
    },
    {
     "name": "stdout",
     "output_type": "stream",
     "text": [
      "iteration: 1\n",
      "cost: 20696.4\n",
      "reduction: 40.676 %\n",
      "\n"
     ]
    },
    {
     "name": "stderr",
     "output_type": "stream",
     "text": [
      "                                                                                \r"
     ]
    },
    {
     "name": "stdout",
     "output_type": "stream",
     "text": [
      "iteration: 2\n",
      "cost: 20258.74\n",
      "reduction: 2.115 %\n",
      "\n"
     ]
    },
    {
     "name": "stderr",
     "output_type": "stream",
     "text": [
      "                                                                                \r"
     ]
    },
    {
     "name": "stdout",
     "output_type": "stream",
     "text": [
      "iteration: 3\n",
      "cost: 20164.2\n",
      "reduction: 0.467 %\n",
      "\n"
     ]
    },
    {
     "name": "stderr",
     "output_type": "stream",
     "text": [
      "                                                                                \r"
     ]
    },
    {
     "name": "stdout",
     "output_type": "stream",
     "text": [
      "iteration: 4\n",
      "cost: 20136.23\n",
      "reduction: 0.139 %\n",
      "\n"
     ]
    },
    {
     "name": "stderr",
     "output_type": "stream",
     "text": [
      "                                                                                \r"
     ]
    },
    {
     "name": "stdout",
     "output_type": "stream",
     "text": [
      "iteration: 5\n",
      "cost: 20128.35\n",
      "reduction: 0.039 %\n",
      "\n"
     ]
    },
    {
     "name": "stderr",
     "output_type": "stream",
     "text": [
      "                                                                                \r"
     ]
    },
    {
     "name": "stdout",
     "output_type": "stream",
     "text": [
      "iteration: 6\n",
      "cost: 20122.91\n",
      "reduction: 0.027 %\n",
      "\n"
     ]
    },
    {
     "name": "stderr",
     "output_type": "stream",
     "text": [
      "                                                                                \r"
     ]
    },
    {
     "name": "stdout",
     "output_type": "stream",
     "text": [
      "iteration: 7\n",
      "cost: 20115.6\n",
      "reduction: 0.036 %\n",
      "\n"
     ]
    },
    {
     "name": "stderr",
     "output_type": "stream",
     "text": [
      "                                                                                \r"
     ]
    },
    {
     "name": "stdout",
     "output_type": "stream",
     "text": [
      "iteration: 8\n",
      "cost: 20110.92\n",
      "reduction: 0.023 %\n",
      "\n"
     ]
    },
    {
     "name": "stderr",
     "output_type": "stream",
     "text": [
      "                                                                                \r"
     ]
    },
    {
     "name": "stdout",
     "output_type": "stream",
     "text": [
      "iteration: 9\n",
      "cost: 20107.61\n",
      "reduction: 0.016 %\n",
      "\n"
     ]
    },
    {
     "name": "stderr",
     "output_type": "stream",
     "text": [
      "                                                                                \r"
     ]
    },
    {
     "name": "stdout",
     "output_type": "stream",
     "text": [
      "iteration: 10\n",
      "cost: 20104.18\n",
      "reduction: 0.017 %\n",
      "\n"
     ]
    },
    {
     "name": "stderr",
     "output_type": "stream",
     "text": [
      "                                                                                \r"
     ]
    },
    {
     "name": "stdout",
     "output_type": "stream",
     "text": [
      "iteration: 11\n",
      "cost: 20100.41\n",
      "reduction: 0.019 %\n",
      "\n"
     ]
    },
    {
     "name": "stderr",
     "output_type": "stream",
     "text": [
      "                                                                                \r"
     ]
    },
    {
     "name": "stdout",
     "output_type": "stream",
     "text": [
      "iteration: 12\n",
      "cost: 20095.64\n",
      "reduction: 0.024 %\n",
      "\n"
     ]
    },
    {
     "name": "stderr",
     "output_type": "stream",
     "text": [
      "                                                                                \r"
     ]
    },
    {
     "name": "stdout",
     "output_type": "stream",
     "text": [
      "iteration: 13\n",
      "cost: 20089.02\n",
      "reduction: 0.033 %\n",
      "\n"
     ]
    },
    {
     "name": "stderr",
     "output_type": "stream",
     "text": [
      "                                                                                \r"
     ]
    },
    {
     "name": "stdout",
     "output_type": "stream",
     "text": [
      "iteration: 14\n",
      "cost: 20081.91\n",
      "reduction: 0.035 %\n",
      "\n"
     ]
    },
    {
     "name": "stderr",
     "output_type": "stream",
     "text": [
      "                                                                                \r"
     ]
    },
    {
     "name": "stdout",
     "output_type": "stream",
     "text": [
      "iteration: 15\n",
      "cost: 20076.09\n",
      "reduction: 0.029 %\n",
      "\n"
     ]
    },
    {
     "name": "stderr",
     "output_type": "stream",
     "text": [
      "                                                                                \r"
     ]
    },
    {
     "name": "stdout",
     "output_type": "stream",
     "text": [
      "iteration: 16\n",
      "cost: 20069.58\n",
      "reduction: 0.032 %\n",
      "\n"
     ]
    },
    {
     "name": "stderr",
     "output_type": "stream",
     "text": [
      "                                                                                \r"
     ]
    },
    {
     "name": "stdout",
     "output_type": "stream",
     "text": [
      "iteration: 17\n",
      "cost: 20062.5\n",
      "reduction: 0.035 %\n",
      "\n"
     ]
    },
    {
     "name": "stderr",
     "output_type": "stream",
     "text": [
      "                                                                                \r"
     ]
    },
    {
     "name": "stdout",
     "output_type": "stream",
     "text": [
      "iteration: 18\n",
      "cost: 20048.16\n",
      "reduction: 0.071 %\n",
      "\n"
     ]
    },
    {
     "name": "stderr",
     "output_type": "stream",
     "text": [
      "                                                                                \r"
     ]
    },
    {
     "name": "stdout",
     "output_type": "stream",
     "text": [
      "iteration: 19\n",
      "cost: 20027.93\n",
      "reduction: 0.101 %\n",
      "\n"
     ]
    },
    {
     "name": "stderr",
     "output_type": "stream",
     "text": [
      "                                                                                \r"
     ]
    },
    {
     "name": "stdout",
     "output_type": "stream",
     "text": [
      "iteration: 20\n",
      "cost: 20021.68\n",
      "reduction: 0.031 %\n",
      "\n"
     ]
    },
    {
     "name": "stderr",
     "output_type": "stream",
     "text": [
      "                                                                                \r"
     ]
    },
    {
     "name": "stdout",
     "output_type": "stream",
     "text": [
      "iteration: 21\n",
      "cost: 20014.63\n",
      "reduction: 0.035 %\n",
      "\n"
     ]
    },
    {
     "name": "stderr",
     "output_type": "stream",
     "text": [
      "                                                                                \r"
     ]
    },
    {
     "name": "stdout",
     "output_type": "stream",
     "text": [
      "iteration: 22\n",
      "cost: 20002.45\n",
      "reduction: 0.061 %\n",
      "\n"
     ]
    },
    {
     "name": "stderr",
     "output_type": "stream",
     "text": [
      "                                                                                \r"
     ]
    },
    {
     "name": "stdout",
     "output_type": "stream",
     "text": [
      "iteration: 23\n",
      "cost: 19975.67\n",
      "reduction: 0.134 %\n",
      "\n"
     ]
    },
    {
     "name": "stderr",
     "output_type": "stream",
     "text": [
      "[Stage 246:=====================================================> (31 + 1) / 32]\r"
     ]
    },
    {
     "name": "stdout",
     "output_type": "stream",
     "text": [
      "iteration: 24\n",
      "cost: 19958.09\n",
      "reduction: 0.088 %\n",
      "\n",
      "Lloyd’s algorithm time: 822.8 s\n"
     ]
    },
    {
     "name": "stderr",
     "output_type": "stream",
     "text": [
      "\r",
      "                                                                                \r"
     ]
    }
   ],
   "source": [
    "start_time = time.time()\n",
    "\n",
    "C, cost_list = lloyd_algorithm(data_rdd_filtered, C, cost_list, t = 24)\n",
    "\n",
    "end_time = time.time()\n",
    "\n",
    "t_lloyd = end_time - start_time\n",
    "\n",
    "print('Lloyd’s algorithm time: {} s'.format(str(round(t_lloyd, 2))))"
   ]
  },
  {
   "cell_type": "code",
   "execution_count": 48,
   "id": "0fe5dd49",
   "metadata": {},
   "outputs": [
    {
     "name": "stdout",
     "output_type": "stream",
     "text": [
      "total time: 836.64 s\n"
     ]
    }
   ],
   "source": [
    "print('total time: {} s'.format(str(round(t_init + t_lloyd, 2))))"
   ]
  },
  {
   "cell_type": "code",
   "execution_count": 49,
   "id": "6711e8fe",
   "metadata": {},
   "outputs": [
    {
     "data": {
      "text/plain": [
       "PythonRDD[6] at RDD at PythonRDD.scala:53"
      ]
     },
     "execution_count": 49,
     "metadata": {},
     "output_type": "execute_result"
    }
   ],
   "source": [
    "# free up memory\n",
    "data_rdd_filtered.unpersist()"
   ]
  },
  {
   "cell_type": "markdown",
   "id": "4f7e5bcf",
   "metadata": {},
   "source": [
    "# Deleting files local and on cloud"
   ]
  },
  {
   "cell_type": "code",
   "execution_count": 50,
   "id": "54f7eba0",
   "metadata": {},
   "outputs": [],
   "source": [
    "if CLUSTER_TYPE == 'cloud-veneto-cluster':\n",
    "\n",
    "    import subprocess\n",
    "\n",
    "    # delete files on all nodes\n",
    "    def deleting(dummy):\n",
    "        subprocess.call('rm /home/Project/rcv1_dataset/*', shell = True)\n",
    "    \n",
    "    files_rdd.map(lambda file: deleting(file)).count()"
   ]
  },
  {
   "cell_type": "code",
   "execution_count": 51,
   "id": "99e37a3d",
   "metadata": {},
   "outputs": [],
   "source": [
    "if CLUSTER_TYPE == 'cloud-veneto-cluster':\n",
    "\n",
    "    # delete files on cloud\n",
    "    for i in range(n_chunk):\n",
    "        s3.delete_object(Bucket = 'mapd-gr12', Key = 'data_{}.npz'.format(i))\n",
    "        s3.delete_object(Bucket = 'mapd-gr12', Key = 'target_{}.npz'.format(i))"
   ]
  },
  {
   "cell_type": "code",
   "execution_count": 52,
   "id": "21d2facd",
   "metadata": {},
   "outputs": [],
   "source": [
    "# stop the running Spark context\n",
    "sc.stop()\n",
    "# stop the running Spark session\n",
    "spark.stop()"
   ]
  },
  {
   "cell_type": "markdown",
   "id": "82936801",
   "metadata": {},
   "source": [
    "# Compare the perfomances with different initializations: cost function\n",
    "The dataset we used for this comparison consisted of 32 chunks of 16000 documents each, divided into 32 partitions, while the Spark cluster consisted of 16 executors, each with 1 core and 1 Gb of memory. From the graph below, it can be seen that the k-means algorithm with naive initialization requires more iterations to reach an arbitrarily set threshold of the cost function than the cases with the k-means++ and k-means|| (l = 3, t = 4) initialization methods. This trend occurred in numerous runs with similar settings."
   ]
  },
  {
   "cell_type": "code",
   "execution_count": 2,
   "id": "db75bcc3",
   "metadata": {},
   "outputs": [
    {
     "data": {
      "text/html": [
       "<div>\n",
       "<style scoped>\n",
       "    .dataframe tbody tr th:only-of-type {\n",
       "        vertical-align: middle;\n",
       "    }\n",
       "\n",
       "    .dataframe tbody tr th {\n",
       "        vertical-align: top;\n",
       "    }\n",
       "\n",
       "    .dataframe thead th {\n",
       "        text-align: right;\n",
       "    }\n",
       "</style>\n",
       "<table border=\"1\" class=\"dataframe\">\n",
       "  <thead>\n",
       "    <tr style=\"text-align: right;\">\n",
       "      <th></th>\n",
       "      <th>naive</th>\n",
       "      <th>naive-sd</th>\n",
       "      <th>k-means-pp</th>\n",
       "      <th>k-means-pp-sd</th>\n",
       "      <th>k-means-ll</th>\n",
       "      <th>k-means-ll-sd</th>\n",
       "    </tr>\n",
       "  </thead>\n",
       "  <tbody>\n",
       "    <tr>\n",
       "      <th>2</th>\n",
       "      <td>21621.568246</td>\n",
       "      <td>107.701496</td>\n",
       "      <td>21194.974679</td>\n",
       "      <td>189.677276</td>\n",
       "      <td>20959.947254</td>\n",
       "      <td>148.843565</td>\n",
       "    </tr>\n",
       "    <tr>\n",
       "      <th>3</th>\n",
       "      <td>21313.057030</td>\n",
       "      <td>169.047862</td>\n",
       "      <td>20846.444500</td>\n",
       "      <td>183.588199</td>\n",
       "      <td>20623.872912</td>\n",
       "      <td>85.181279</td>\n",
       "    </tr>\n",
       "    <tr>\n",
       "      <th>4</th>\n",
       "      <td>21039.884562</td>\n",
       "      <td>196.106464</td>\n",
       "      <td>20671.651555</td>\n",
       "      <td>170.821388</td>\n",
       "      <td>20509.362809</td>\n",
       "      <td>82.038404</td>\n",
       "    </tr>\n",
       "    <tr>\n",
       "      <th>5</th>\n",
       "      <td>20873.407304</td>\n",
       "      <td>155.979689</td>\n",
       "      <td>20527.084504</td>\n",
       "      <td>129.289452</td>\n",
       "      <td>20439.111224</td>\n",
       "      <td>85.296591</td>\n",
       "    </tr>\n",
       "    <tr>\n",
       "      <th>6</th>\n",
       "      <td>20713.737788</td>\n",
       "      <td>91.131274</td>\n",
       "      <td>20434.448000</td>\n",
       "      <td>98.783586</td>\n",
       "      <td>20388.429906</td>\n",
       "      <td>88.272097</td>\n",
       "    </tr>\n",
       "    <tr>\n",
       "      <th>7</th>\n",
       "      <td>20573.869696</td>\n",
       "      <td>42.564499</td>\n",
       "      <td>20386.801324</td>\n",
       "      <td>89.965727</td>\n",
       "      <td>20342.726350</td>\n",
       "      <td>95.222002</td>\n",
       "    </tr>\n",
       "    <tr>\n",
       "      <th>8</th>\n",
       "      <td>20488.955174</td>\n",
       "      <td>60.035752</td>\n",
       "      <td>20352.090197</td>\n",
       "      <td>90.486223</td>\n",
       "      <td>20312.624664</td>\n",
       "      <td>91.858481</td>\n",
       "    </tr>\n",
       "    <tr>\n",
       "      <th>9</th>\n",
       "      <td>20432.717001</td>\n",
       "      <td>46.411574</td>\n",
       "      <td>20333.609169</td>\n",
       "      <td>89.769043</td>\n",
       "      <td>20261.867688</td>\n",
       "      <td>74.121141</td>\n",
       "    </tr>\n",
       "    <tr>\n",
       "      <th>10</th>\n",
       "      <td>20380.052730</td>\n",
       "      <td>32.510651</td>\n",
       "      <td>20305.346423</td>\n",
       "      <td>71.257114</td>\n",
       "      <td>20180.452973</td>\n",
       "      <td>47.365097</td>\n",
       "    </tr>\n",
       "    <tr>\n",
       "      <th>11</th>\n",
       "      <td>20352.289887</td>\n",
       "      <td>33.619964</td>\n",
       "      <td>20207.505908</td>\n",
       "      <td>8.785963</td>\n",
       "      <td>20133.480763</td>\n",
       "      <td>41.489084</td>\n",
       "    </tr>\n",
       "    <tr>\n",
       "      <th>12</th>\n",
       "      <td>20329.740271</td>\n",
       "      <td>32.542310</td>\n",
       "      <td>20169.984125</td>\n",
       "      <td>22.904995</td>\n",
       "      <td>20104.554484</td>\n",
       "      <td>48.620923</td>\n",
       "    </tr>\n",
       "    <tr>\n",
       "      <th>13</th>\n",
       "      <td>20315.229490</td>\n",
       "      <td>27.135065</td>\n",
       "      <td>20155.124817</td>\n",
       "      <td>19.812111</td>\n",
       "      <td>20094.171829</td>\n",
       "      <td>52.325066</td>\n",
       "    </tr>\n",
       "    <tr>\n",
       "      <th>14</th>\n",
       "      <td>20309.711671</td>\n",
       "      <td>25.597925</td>\n",
       "      <td>20139.626688</td>\n",
       "      <td>21.051094</td>\n",
       "      <td>20082.122586</td>\n",
       "      <td>46.621208</td>\n",
       "    </tr>\n",
       "    <tr>\n",
       "      <th>15</th>\n",
       "      <td>20304.921871</td>\n",
       "      <td>24.824264</td>\n",
       "      <td>20132.773272</td>\n",
       "      <td>23.714215</td>\n",
       "      <td>20070.798255</td>\n",
       "      <td>40.580056</td>\n",
       "    </tr>\n",
       "    <tr>\n",
       "      <th>16</th>\n",
       "      <td>20299.635294</td>\n",
       "      <td>23.824228</td>\n",
       "      <td>20128.758584</td>\n",
       "      <td>25.691809</td>\n",
       "      <td>20050.260704</td>\n",
       "      <td>29.433343</td>\n",
       "    </tr>\n",
       "    <tr>\n",
       "      <th>17</th>\n",
       "      <td>20292.617018</td>\n",
       "      <td>21.036244</td>\n",
       "      <td>20128.094448</td>\n",
       "      <td>26.009985</td>\n",
       "      <td>19993.692311</td>\n",
       "      <td>16.575117</td>\n",
       "    </tr>\n",
       "    <tr>\n",
       "      <th>18</th>\n",
       "      <td>20282.944056</td>\n",
       "      <td>14.880087</td>\n",
       "      <td>20128.034752</td>\n",
       "      <td>26.008217</td>\n",
       "      <td>19975.951032</td>\n",
       "      <td>23.989939</td>\n",
       "    </tr>\n",
       "    <tr>\n",
       "      <th>19</th>\n",
       "      <td>20272.293209</td>\n",
       "      <td>9.751680</td>\n",
       "      <td>20127.998354</td>\n",
       "      <td>26.002550</td>\n",
       "      <td>19970.807770</td>\n",
       "      <td>22.578655</td>\n",
       "    </tr>\n",
       "    <tr>\n",
       "      <th>20</th>\n",
       "      <td>20249.977637</td>\n",
       "      <td>16.983281</td>\n",
       "      <td>20127.978002</td>\n",
       "      <td>25.998207</td>\n",
       "      <td>19966.413811</td>\n",
       "      <td>20.284228</td>\n",
       "    </tr>\n",
       "    <tr>\n",
       "      <th>21</th>\n",
       "      <td>20229.557888</td>\n",
       "      <td>32.159379</td>\n",
       "      <td>20127.962462</td>\n",
       "      <td>25.995101</td>\n",
       "      <td>19961.069546</td>\n",
       "      <td>18.689290</td>\n",
       "    </tr>\n",
       "    <tr>\n",
       "      <th>22</th>\n",
       "      <td>20225.416874</td>\n",
       "      <td>35.279180</td>\n",
       "      <td>20127.950532</td>\n",
       "      <td>25.993057</td>\n",
       "      <td>19955.994538</td>\n",
       "      <td>16.131110</td>\n",
       "    </tr>\n",
       "    <tr>\n",
       "      <th>23</th>\n",
       "      <td>20223.621703</td>\n",
       "      <td>36.594841</td>\n",
       "      <td>20127.942565</td>\n",
       "      <td>25.992428</td>\n",
       "      <td>19951.349793</td>\n",
       "      <td>14.165431</td>\n",
       "    </tr>\n",
       "    <tr>\n",
       "      <th>24</th>\n",
       "      <td>20222.300096</td>\n",
       "      <td>37.529952</td>\n",
       "      <td>20127.938776</td>\n",
       "      <td>25.992589</td>\n",
       "      <td>19947.030088</td>\n",
       "      <td>12.636293</td>\n",
       "    </tr>\n",
       "    <tr>\n",
       "      <th>25</th>\n",
       "      <td>20221.389621</td>\n",
       "      <td>38.112304</td>\n",
       "      <td>20127.937234</td>\n",
       "      <td>25.992654</td>\n",
       "      <td>19941.875224</td>\n",
       "      <td>11.324545</td>\n",
       "    </tr>\n",
       "  </tbody>\n",
       "</table>\n",
       "</div>"
      ],
      "text/plain": [
       "           naive    naive-sd    k-means-pp  k-means-pp-sd    k-means-ll  \\\n",
       "2   21621.568246  107.701496  21194.974679     189.677276  20959.947254   \n",
       "3   21313.057030  169.047862  20846.444500     183.588199  20623.872912   \n",
       "4   21039.884562  196.106464  20671.651555     170.821388  20509.362809   \n",
       "5   20873.407304  155.979689  20527.084504     129.289452  20439.111224   \n",
       "6   20713.737788   91.131274  20434.448000      98.783586  20388.429906   \n",
       "7   20573.869696   42.564499  20386.801324      89.965727  20342.726350   \n",
       "8   20488.955174   60.035752  20352.090197      90.486223  20312.624664   \n",
       "9   20432.717001   46.411574  20333.609169      89.769043  20261.867688   \n",
       "10  20380.052730   32.510651  20305.346423      71.257114  20180.452973   \n",
       "11  20352.289887   33.619964  20207.505908       8.785963  20133.480763   \n",
       "12  20329.740271   32.542310  20169.984125      22.904995  20104.554484   \n",
       "13  20315.229490   27.135065  20155.124817      19.812111  20094.171829   \n",
       "14  20309.711671   25.597925  20139.626688      21.051094  20082.122586   \n",
       "15  20304.921871   24.824264  20132.773272      23.714215  20070.798255   \n",
       "16  20299.635294   23.824228  20128.758584      25.691809  20050.260704   \n",
       "17  20292.617018   21.036244  20128.094448      26.009985  19993.692311   \n",
       "18  20282.944056   14.880087  20128.034752      26.008217  19975.951032   \n",
       "19  20272.293209    9.751680  20127.998354      26.002550  19970.807770   \n",
       "20  20249.977637   16.983281  20127.978002      25.998207  19966.413811   \n",
       "21  20229.557888   32.159379  20127.962462      25.995101  19961.069546   \n",
       "22  20225.416874   35.279180  20127.950532      25.993057  19955.994538   \n",
       "23  20223.621703   36.594841  20127.942565      25.992428  19951.349793   \n",
       "24  20222.300096   37.529952  20127.938776      25.992589  19947.030088   \n",
       "25  20221.389621   38.112304  20127.937234      25.992654  19941.875224   \n",
       "\n",
       "    k-means-ll-sd  \n",
       "2      148.843565  \n",
       "3       85.181279  \n",
       "4       82.038404  \n",
       "5       85.296591  \n",
       "6       88.272097  \n",
       "7       95.222002  \n",
       "8       91.858481  \n",
       "9       74.121141  \n",
       "10      47.365097  \n",
       "11      41.489084  \n",
       "12      48.620923  \n",
       "13      52.325066  \n",
       "14      46.621208  \n",
       "15      40.580056  \n",
       "16      29.433343  \n",
       "17      16.575117  \n",
       "18      23.989939  \n",
       "19      22.578655  \n",
       "20      20.284228  \n",
       "21      18.689290  \n",
       "22      16.131110  \n",
       "23      14.165431  \n",
       "24      12.636293  \n",
       "25      11.324545  "
      ]
     },
     "execution_count": 2,
     "metadata": {},
     "output_type": "execute_result"
    }
   ],
   "source": [
    "df_cost = pd.read_csv('performances/k-means-cost.csv')\n",
    "df_cost = df_cost.iloc[2:,:]\n",
    "df_cost"
   ]
  },
  {
   "cell_type": "code",
   "execution_count": 3,
   "id": "b785abb0",
   "metadata": {},
   "outputs": [
    {
     "data": {
      "image/png": "[encoded data removed]",
      "text/plain": [
       "<Figure size 1008x504 with 1 Axes>"
      ]
     },
     "metadata": {
      "needs_background": "light"
     },
     "output_type": "display_data"
    }
   ],
   "source": [
    "fig, ax = plt.subplots(figsize = (14, 7))\n",
    "\n",
    "ax.errorbar(range(1, df_cost.shape[0]+1), df_cost['naive'], yerr = df_cost['naive-sd'],\n",
    "            marker = 'o', ls = '--', color = 'tab:blue', label = 'naive')\n",
    "ax.errorbar(range(1, df_cost.shape[0]+1), df_cost['k-means-pp'], yerr = df_cost['k-means-pp-sd'],\n",
    "            marker = 'o', ls = '--', color = 'tab:red', label = 'k-means++')\n",
    "ax.errorbar(range(1, df_cost.shape[0]+1), df_cost['k-means-ll'], yerr = df_cost['k-means-ll-sd'],\n",
    "            marker = 'o', ls = '--', color = 'tab:green', label = 'k-means||')\n",
    "\n",
    "\n",
    "ax.axvline(x = 6, color = 'gray', ls = '--', dashes = (3, 2))\n",
    "ax.axvline(x = 7, color = 'gray', ls = '--', dashes = (3, 2))\n",
    "ax.axvline(x = 10, color = 'gray', ls = '--', dashes = (3, 2))\n",
    "ax.axhline(y = df_cost['k-means-ll'][7], color = 'k', ls = '--', dashes = (3, 2), label = 'threshold')\n",
    "\n",
    "\n",
    "ax.set_xlabel('iteration', fontsize = 14)\n",
    "ax.set_ylabel('cost', fontsize = 14)\n",
    "ax.set_xticks(np.arange(df_cost.shape[0])+1)\n",
    "plt.xticks(fontsize = 12)\n",
    "plt.yticks(fontsize = 12)\n",
    "plt.legend(fontsize = 14)\n",
    "\n",
    "plt.show()"
   ]
  },
  {
   "cell_type": "markdown",
   "id": "92e19f23",
   "metadata": {},
   "source": [
    "# Compare the perfomances with different initializations: execution time\n",
    "The setting for this comparison is the same as the previous one. From the graph below it is possible to see that the k-means|| initialization time is lower than the k-means++ one."
   ]
  },
  {
   "cell_type": "code",
   "execution_count": 4,
   "id": "17bb19ce",
   "metadata": {},
   "outputs": [
    {
     "data": {
      "text/html": [
       "<div>\n",
       "<style scoped>\n",
       "    .dataframe tbody tr th:only-of-type {\n",
       "        vertical-align: middle;\n",
       "    }\n",
       "\n",
       "    .dataframe tbody tr th {\n",
       "        vertical-align: top;\n",
       "    }\n",
       "\n",
       "    .dataframe thead th {\n",
       "        text-align: right;\n",
       "    }\n",
       "</style>\n",
       "<table border=\"1\" class=\"dataframe\">\n",
       "  <thead>\n",
       "    <tr style=\"text-align: right;\">\n",
       "      <th></th>\n",
       "      <th>naive</th>\n",
       "      <th>k-means-pp</th>\n",
       "      <th>k-means-ll</th>\n",
       "    </tr>\n",
       "  </thead>\n",
       "  <tbody>\n",
       "    <tr>\n",
       "      <th>0</th>\n",
       "      <td>0.490000</td>\n",
       "      <td>22.10</td>\n",
       "      <td>16.396667</td>\n",
       "    </tr>\n",
       "    <tr>\n",
       "      <th>1</th>\n",
       "      <td>781.493333</td>\n",
       "      <td>740.22</td>\n",
       "      <td>770.790000</td>\n",
       "    </tr>\n",
       "  </tbody>\n",
       "</table>\n",
       "</div>"
      ],
      "text/plain": [
       "        naive  k-means-pp  k-means-ll\n",
       "0    0.490000       22.10   16.396667\n",
       "1  781.493333      740.22  770.790000"
      ]
     },
     "execution_count": 4,
     "metadata": {},
     "output_type": "execute_result"
    }
   ],
   "source": [
    "df_time = pd.read_csv('performances/k-means-time.csv')\n",
    "df_time"
   ]
  },
  {
   "cell_type": "code",
   "execution_count": 5,
   "id": "b1673621",
   "metadata": {},
   "outputs": [],
   "source": [
    "t_init = np.array(df_time.iloc[0].tolist())\n",
    "t_Lloyd = np.multiply(np.array(df_time.iloc[1].tolist())/24, np.array([10, 7, 6]))"
   ]
  },
  {
   "cell_type": "code",
   "execution_count": 6,
   "id": "529ec6ce",
   "metadata": {},
   "outputs": [
    {
     "name": "stdout",
     "output_type": "stream",
     "text": [
      "k-means clustering execution time:\n",
      "\n",
      "init method:   init time:  Lloyd time:  total time: \n",
      "\n",
      "       naive         0.49       325.62       326.11\n",
      "   k-means++         22.1        215.9        238.0\n",
      "   k-means||         16.4        192.7       209.09\n"
     ]
    },
    {
     "data": {
      "image/png": "[encoded data removed]",
      "text/plain": [
       "<Figure size 576x576 with 1 Axes>"
      ]
     },
     "metadata": {
      "needs_background": "light"
     },
     "output_type": "display_data"
    }
   ],
   "source": [
    "print('k-means clustering execution time:\\n')\n",
    "format_spec = '{:>12} {:>12} {:>12} {:>12}'\n",
    "\n",
    "print(format_spec.format('init method:', 'init time:', 'Lloyd time:', 'total time:'), '\\n')\n",
    "\n",
    "names = ['naive', 'k-means++', 'k-means||']\n",
    "for i, name in enumerate(names):\n",
    "    times = [t_init[i], t_Lloyd[i], t_init[i] + t_Lloyd[i]]\n",
    "    words = [str(round(t, 2)) for t in times]\n",
    "    print(format_spec.format(name, words[0], words[1], words[2]))\n",
    "    \n",
    "fig, ax = plt.subplots(figsize = (8, 8))\n",
    "\n",
    "ax.bar(names, t_init, width = 0.5, color = 'darkred', alpha = 0.9, label = 'init')\n",
    "ax.bar(names, t_Lloyd, width = 0.5, bottom = t_init, color = 'steelblue', alpha = 0.9, label = 'Lloyd')\n",
    "ax.set_ylabel('time [s]', fontsize = 14)\n",
    "plt.xticks(fontsize = 14)\n",
    "plt.yticks(fontsize = 12)\n",
    "ax.legend(fontsize = 14)\n",
    "\n",
    "plt.show()"
   ]
  },
  {
   "cell_type": "markdown",
   "id": "58a80b71",
   "metadata": {},
   "source": [
    "# Study the perfomances of different Spark configurations\n",
    "The dataset used for this comparison consisted of a total of 128000 documents (varying the number of chunks/partitions and the number of documents per chunk) tested using k-means|| initialization (l = 3, t = 5) and running the Lloyd's algorithm for 5 iterations. The small number of documents was necessary to run 5 executions in order to obtain the average execution time values. We considered two Spark configurations: the first consisted of 16 executors, each with 1 core and 1536 Mb of memory, while the second consisted of 8 executors, each with 2 cores and 3072 Mb of memory."
   ]
  },
  {
   "cell_type": "code",
   "execution_count": 58,
   "id": "20c6b5ee",
   "metadata": {},
   "outputs": [
    {
     "data": {
      "text/html": [
       "<div>\n",
       "<style scoped>\n",
       "    .dataframe tbody tr th:only-of-type {\n",
       "        vertical-align: middle;\n",
       "    }\n",
       "\n",
       "    .dataframe tbody tr th {\n",
       "        vertical-align: top;\n",
       "    }\n",
       "\n",
       "    .dataframe thead th {\n",
       "        text-align: right;\n",
       "    }\n",
       "</style>\n",
       "<table border=\"1\" class=\"dataframe\">\n",
       "  <thead>\n",
       "    <tr style=\"text-align: right;\">\n",
       "      <th></th>\n",
       "      <th>t-init-mean</th>\n",
       "      <th>t-init-sd</th>\n",
       "      <th>t-Lloyd-mean</th>\n",
       "      <th>t-Lloyd-sd</th>\n",
       "    </tr>\n",
       "  </thead>\n",
       "  <tbody>\n",
       "    <tr>\n",
       "      <th>0</th>\n",
       "      <td>27.770</td>\n",
       "      <td>1.538417</td>\n",
       "      <td>120.598</td>\n",
       "      <td>3.691748</td>\n",
       "    </tr>\n",
       "    <tr>\n",
       "      <th>1</th>\n",
       "      <td>15.728</td>\n",
       "      <td>0.616042</td>\n",
       "      <td>62.226</td>\n",
       "      <td>1.253927</td>\n",
       "    </tr>\n",
       "    <tr>\n",
       "      <th>2</th>\n",
       "      <td>10.962</td>\n",
       "      <td>0.380183</td>\n",
       "      <td>36.820</td>\n",
       "      <td>1.677288</td>\n",
       "    </tr>\n",
       "    <tr>\n",
       "      <th>3</th>\n",
       "      <td>13.926</td>\n",
       "      <td>0.183010</td>\n",
       "      <td>34.652</td>\n",
       "      <td>1.937556</td>\n",
       "    </tr>\n",
       "    <tr>\n",
       "      <th>4</th>\n",
       "      <td>19.786</td>\n",
       "      <td>0.126320</td>\n",
       "      <td>43.762</td>\n",
       "      <td>1.722100</td>\n",
       "    </tr>\n",
       "    <tr>\n",
       "      <th>5</th>\n",
       "      <td>30.504</td>\n",
       "      <td>0.801631</td>\n",
       "      <td>47.488</td>\n",
       "      <td>2.613698</td>\n",
       "    </tr>\n",
       "  </tbody>\n",
       "</table>\n",
       "</div>"
      ],
      "text/plain": [
       "   t-init-mean  t-init-sd  t-Lloyd-mean  t-Lloyd-sd\n",
       "0       27.770   1.538417       120.598    3.691748\n",
       "1       15.728   0.616042        62.226    1.253927\n",
       "2       10.962   0.380183        36.820    1.677288\n",
       "3       13.926   0.183010        34.652    1.937556\n",
       "4       19.786   0.126320        43.762    1.722100\n",
       "5       30.504   0.801631        47.488    2.613698"
      ]
     },
     "execution_count": 58,
     "metadata": {},
     "output_type": "execute_result"
    }
   ],
   "source": [
    "df_16exec = pd.read_csv('performances/spark-config-16exec.csv')\n",
    "df_16exec"
   ]
  },
  {
   "cell_type": "code",
   "execution_count": 59,
   "id": "dd20053b",
   "metadata": {},
   "outputs": [
    {
     "data": {
      "text/html": [
       "<div>\n",
       "<style scoped>\n",
       "    .dataframe tbody tr th:only-of-type {\n",
       "        vertical-align: middle;\n",
       "    }\n",
       "\n",
       "    .dataframe tbody tr th {\n",
       "        vertical-align: top;\n",
       "    }\n",
       "\n",
       "    .dataframe thead th {\n",
       "        text-align: right;\n",
       "    }\n",
       "</style>\n",
       "<table border=\"1\" class=\"dataframe\">\n",
       "  <thead>\n",
       "    <tr style=\"text-align: right;\">\n",
       "      <th></th>\n",
       "      <th>t-init-mean</th>\n",
       "      <th>t-init-sd</th>\n",
       "      <th>t-Lloyd-mean</th>\n",
       "      <th>t-Lloyd-sd</th>\n",
       "    </tr>\n",
       "  </thead>\n",
       "  <tbody>\n",
       "    <tr>\n",
       "      <th>0</th>\n",
       "      <td>20.272</td>\n",
       "      <td>0.552372</td>\n",
       "      <td>116.854</td>\n",
       "      <td>4.344921</td>\n",
       "    </tr>\n",
       "    <tr>\n",
       "      <th>1</th>\n",
       "      <td>12.788</td>\n",
       "      <td>0.146490</td>\n",
       "      <td>64.690</td>\n",
       "      <td>1.289955</td>\n",
       "    </tr>\n",
       "    <tr>\n",
       "      <th>2</th>\n",
       "      <td>10.492</td>\n",
       "      <td>0.140610</td>\n",
       "      <td>34.662</td>\n",
       "      <td>1.210654</td>\n",
       "    </tr>\n",
       "    <tr>\n",
       "      <th>3</th>\n",
       "      <td>13.622</td>\n",
       "      <td>0.216968</td>\n",
       "      <td>39.012</td>\n",
       "      <td>0.915547</td>\n",
       "    </tr>\n",
       "    <tr>\n",
       "      <th>4</th>\n",
       "      <td>18.258</td>\n",
       "      <td>0.357249</td>\n",
       "      <td>38.456</td>\n",
       "      <td>1.719401</td>\n",
       "    </tr>\n",
       "    <tr>\n",
       "      <th>5</th>\n",
       "      <td>29.956</td>\n",
       "      <td>0.613942</td>\n",
       "      <td>44.704</td>\n",
       "      <td>1.181533</td>\n",
       "    </tr>\n",
       "  </tbody>\n",
       "</table>\n",
       "</div>"
      ],
      "text/plain": [
       "   t-init-mean  t-init-sd  t-Lloyd-mean  t-Lloyd-sd\n",
       "0       20.272   0.552372       116.854    4.344921\n",
       "1       12.788   0.146490        64.690    1.289955\n",
       "2       10.492   0.140610        34.662    1.210654\n",
       "3       13.622   0.216968        39.012    0.915547\n",
       "4       18.258   0.357249        38.456    1.719401\n",
       "5       29.956   0.613942        44.704    1.181533"
      ]
     },
     "execution_count": 59,
     "metadata": {},
     "output_type": "execute_result"
    }
   ],
   "source": [
    "df_8exec = pd.read_csv('performances/spark-config-8exec.csv')\n",
    "df_8exec"
   ]
  },
  {
   "cell_type": "code",
   "execution_count": 60,
   "id": "97616f27",
   "metadata": {},
   "outputs": [
    {
     "data": {
      "image/png": "[encoded data removed]",
      "text/plain": [
       "<Figure size 1152x576 with 2 Axes>"
      ]
     },
     "metadata": {
      "needs_background": "light"
     },
     "output_type": "display_data"
    }
   ],
   "source": [
    "fig, ax = plt.subplots(nrows = 1, ncols = 2, figsize = (16, 8))\n",
    "\n",
    "# 16 executors\n",
    "ax[0].errorbar(range(df_16exec.shape[0]), df_16exec['t-init-mean'], yerr = df_16exec['t-init-sd'],\n",
    "            marker = 'o', ls = '--', color = 'darkred', alpha = 0.9, label = 'k-means||')\n",
    "ax[0].errorbar(range(df_16exec.shape[0]), df_16exec['t-Lloyd-mean'], yerr = df_16exec['t-Lloyd-sd'],\n",
    "            marker = 'o', ls = '--', color = 'steelblue', alpha = 0.9, label = 'Lloyd')\n",
    "\n",
    "ax[0].set_xlabel('number of partitions', fontsize = 14)\n",
    "ax[0].set_ylabel('time [s]', fontsize = 14)\n",
    "ax[0].set_title('16 executors, 1 core, 1536 Mb', fontsize = 16)\n",
    "ax[0].set_xticks(range(df_16exec.shape[0]), labels = ['4', '8', '16', '32', '64', '128'])\n",
    "ax[0].tick_params(labelsize = 12)\n",
    "ax[0].legend(fontsize = 14)\n",
    "\n",
    "# 8 executors\n",
    "ax[1].errorbar(range(df_8exec.shape[0]), df_8exec['t-init-mean'], yerr = df_8exec['t-init-sd'],\n",
    "            marker = 'o', ls = '--', color = 'darkred', alpha = 0.9, label = 'k-means||')\n",
    "ax[1].errorbar(range(df_8exec.shape[0]), df_8exec['t-Lloyd-mean'], yerr = df_8exec['t-Lloyd-sd'],\n",
    "            marker = 'o', ls = '--', color = 'steelblue', alpha = 0.9, label = 'Lloyd')\n",
    "\n",
    "ax[1].set_xlabel('number of partitions', fontsize = 14)\n",
    "ax[1].set_ylabel('time [s]', fontsize = 14)\n",
    "ax[1].set_title('8 executors, 2 cores, 3072 Mb', fontsize = 16)\n",
    "ax[1].set_xticks(range(df_8exec.shape[0]), labels = ['4', '8', '16', '32', '64', '128'])\n",
    "ax[1].tick_params(labelsize = 12)\n",
    "ax[1].legend(fontsize = 14)\n",
    "\n",
    "plt.show()"
   ]
  },
  {
   "cell_type": "markdown",
   "id": "dbfbd44e",
   "metadata": {},
   "source": [
    "# References\n",
    "\n",
    "[Scalable K-means++](https://arxiv.org/abs/1203.6402)"
   ]
  }
 ],
 "metadata": {
  "kernelspec": {
   "display_name": "Python 3 (ipykernel)",
   "language": "python",
   "name": "python3"
  },
  "language_info": {
   "codemirror_mode": {
    "name": "ipython",
    "version": 3
   },
   "file_extension": ".py",
   "mimetype": "text/x-python",
   "name": "python",
   "nbconvert_exporter": "python",
   "pygments_lexer": "ipython3",
   "version": "3.8.10"
  }
 },
 "nbformat": 4,
 "nbformat_minor": 5
}
